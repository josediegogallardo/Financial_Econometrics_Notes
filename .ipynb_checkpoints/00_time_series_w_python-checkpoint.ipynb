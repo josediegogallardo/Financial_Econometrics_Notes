{
 "cells": [
  {
   "cell_type": "markdown",
   "id": "8ff9fa32",
   "metadata": {},
   "source": [
    "## ¿Por qué Python?\n",
    "\n",
    "- [Perú](https://trends.google.es/trends/explore?date=all&geo=PE&q=%2Fm%2F0212jm,%2Fm%2F05z1_,%2Fm%2F053_x,%2Fm%2F05ymvd,%2Fm%2F0b7gmz&hl=es)\n",
    "- [Mundo](https://trends.google.es/trends/explore?date=all&q=%2Fm%2F0212jm,%2Fm%2F05z1_,%2Fm%2F053_x,%2Fm%2F05ymvd,%2Fm%2F0b7gmz&hl=es)"
   ]
  },
  {
   "cell_type": "markdown",
   "id": "dda7a151",
   "metadata": {},
   "source": [
    "## Datos del tipo date y datetime\n",
    "\n",
    "- `date` Contiene el formato de una fecha"
   ]
  },
  {
   "cell_type": "code",
   "execution_count": 1,
   "id": "6e6acb44",
   "metadata": {},
   "outputs": [
    {
     "name": "stdout",
     "output_type": "stream",
     "text": [
      "2024-07-27\n"
     ]
    }
   ],
   "source": [
    "from datetime import date\n",
    "\n",
    "hoy = date.today()\n",
    "print(hoy)"
   ]
  },
  {
   "cell_type": "code",
   "execution_count": 2,
   "id": "5b51111c",
   "metadata": {},
   "outputs": [
    {
     "name": "stdout",
     "output_type": "stream",
     "text": [
      "2024-07-28\n"
     ]
    }
   ],
   "source": [
    "julio_28 = date(2024, 7, 28)\n",
    "print(julio_28)"
   ]
  },
  {
   "cell_type": "code",
   "execution_count": 3,
   "id": "55ff31f0",
   "metadata": {},
   "outputs": [
    {
     "data": {
      "text/plain": [
       "datetime.date(2024, 7, 28)"
      ]
     },
     "execution_count": 3,
     "metadata": {},
     "output_type": "execute_result"
    }
   ],
   "source": [
    "julio_28"
   ]
  },
  {
   "cell_type": "markdown",
   "id": "5745d814",
   "metadata": {},
   "source": [
    "- `datetime` Contiene mayor información adicional (timestamp) a la fecha"
   ]
  },
  {
   "cell_type": "code",
   "execution_count": 4,
   "id": "4a2b11c1",
   "metadata": {},
   "outputs": [
    {
     "name": "stdout",
     "output_type": "stream",
     "text": [
      "2024-07-27 20:25:35.930867\n"
     ]
    }
   ],
   "source": [
    "from datetime import datetime\n",
    "\n",
    "hoy = datetime.now()\n",
    "print(hoy)"
   ]
  },
  {
   "cell_type": "code",
   "execution_count": 5,
   "id": "03e0b244",
   "metadata": {},
   "outputs": [
    {
     "name": "stdout",
     "output_type": "stream",
     "text": [
      "2024-07-29 15:39:00\n"
     ]
    }
   ],
   "source": [
    "julio_29 = datetime(2024, 7, 29, 15, 39, 0)\n",
    "julio_29.isoformat() #ISO 8601 format\n",
    "print(julio_29)"
   ]
  },
  {
   "cell_type": "code",
   "execution_count": 6,
   "id": "8ec00455",
   "metadata": {},
   "outputs": [
    {
     "data": {
      "text/plain": [
       "datetime.datetime(2024, 7, 29, 15, 39)"
      ]
     },
     "execution_count": 6,
     "metadata": {},
     "output_type": "execute_result"
    }
   ],
   "source": [
    "julio_29"
   ]
  },
  {
   "cell_type": "markdown",
   "id": "6b673e0e",
   "metadata": {},
   "source": [
    "La libreria datetime nos permite obtener una fecha de un texto"
   ]
  },
  {
   "cell_type": "code",
   "execution_count": 7,
   "id": "975b8507",
   "metadata": {},
   "outputs": [
    {
     "name": "stdout",
     "output_type": "stream",
     "text": [
      "2024-07-28\n"
     ]
    }
   ],
   "source": [
    "from datetime import date\n",
    "julio_28 = date.fromisoformat('2024-07-28')\n",
    "print(julio_28)"
   ]
  },
  {
   "cell_type": "markdown",
   "id": "5f376737",
   "metadata": {},
   "source": [
    "La libreria datetime nos permite obtener un texto de una fecha"
   ]
  },
  {
   "cell_type": "code",
   "execution_count": 8,
   "id": "1731d036",
   "metadata": {},
   "outputs": [
    {
     "data": {
      "text/plain": [
       "'Sunday 28, July 2024'"
      ]
     },
     "execution_count": 8,
     "metadata": {},
     "output_type": "execute_result"
    }
   ],
   "source": [
    "from datetime import datetime\n",
    "julio_28 = datetime(2024, 7, 28)\n",
    "julio_28.strftime('%A %d, %B %Y')"
   ]
  }
 ],
 "metadata": {
  "kernelspec": {
   "display_name": "Python 3",
   "language": "python",
   "name": "python3"
  },
  "language_info": {
   "codemirror_mode": {
    "name": "ipython",
    "version": 3
   },
   "file_extension": ".py",
   "mimetype": "text/x-python",
   "name": "python",
   "nbconvert_exporter": "python",
   "pygments_lexer": "ipython3",
   "version": "3.8.8"
  }
 },
 "nbformat": 4,
 "nbformat_minor": 5
}
